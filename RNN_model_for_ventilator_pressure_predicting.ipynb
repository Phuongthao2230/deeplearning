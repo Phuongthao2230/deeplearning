{
  "cells": [
    {
      "cell_type": "code",
      "execution_count": null,
      "metadata": {
        "id": "3DsVfRnHnDy5"
      },
      "outputs": [],
      "source": [
        "import itertools\n",
        "import pandas as pd\n",
        "import numpy as np\n",
        "import os\n",
        "import random\n",
        "import tensorflow as tf\n",
        "from tensorflow.keras.models import Sequential, load_model\n",
        "from tensorflow.keras.layers import Dense, LSTM, GRU, SimpleRNN, RNN, Input, Bidirectional\n",
        "from sklearn.preprocessing import MinMaxScaler, RobustScaler\n",
        "from tensorflow.keras.callbacks import ModelCheckpoint, EarlyStopping, ReduceLROnPlateau, LearningRateScheduler\n",
        "from sklearn.model_selection import GroupKFold\n",
        "from sklearn.model_selection import train_test_split\n",
        "from tensorflow.keras.optimizers.schedules import ExponentialDecay\n",
        "from sklearn.metrics import accuracy_score, mean_squared_error as mse\n",
        "import matplotlib.pyplot as plt\n",
        "plt.style.use('fivethirtyeight')\n",
        "import warnings\n",
        "warnings.simplefilter(action='ignore', category=FutureWarning)"
      ]
    },
    {
      "cell_type": "code",
      "execution_count": null,
      "metadata": {
        "colab": {
          "base_uri": "https://localhost:8080/"
        },
        "id": "yjRXPsrM0G55",
        "outputId": "64cec502-0e89-475a-aff7-9446b576d676"
      },
      "outputs": [
        {
          "output_type": "stream",
          "name": "stdout",
          "text": [
            "Mounted at /content/drive\n"
          ]
        }
      ],
      "source": [
        "from google.colab import drive\n",
        "drive.mount('/content/drive')"
      ]
    },
    {
      "cell_type": "code",
      "execution_count": null,
      "metadata": {
        "id": "5XfnsYwq5UAA"
      },
      "outputs": [],
      "source": [
        "#load data\n",
        "xtrain = pd.read_csv('/content/drive/MyDrive/Deep Learning đồ án/Ventilator-pressure dataset/train.csv')\n",
        "xtest = pd.read_csv('/content/drive/MyDrive/Deep Learning đồ án/Ventilator-pressure dataset/test.csv')"
      ]
    },
    {
      "cell_type": "code",
      "execution_count": null,
      "metadata": {
        "colab": {
          "base_uri": "https://localhost:8080/"
        },
        "id": "tiuESQ8W5w5-",
        "outputId": "839f4bf0-9caf-42bb-b84a-b89b774cdaae"
      },
      "outputs": [
        {
          "output_type": "stream",
          "name": "stdout",
          "text": [
            "(6036000, 16)\n"
          ]
        }
      ],
      "source": [
        "xgr = xtrain.groupby('breath_id')['u_in']\n",
        "xtrain['last_value_u_in'] = xgr.transform('last')\n",
        "xtrain['u_in_cumsum'] = xgr.cumsum()\n",
        "xtrain['u_in_lag1'] = xgr.shift(1)\n",
        "xtrain['u_in_lag_back1'] = xgr.shift(-1)\n",
        "xtrain.fillna(0, inplace=True)\n",
        "\n",
        "xtrain['R'] = xtrain['R'].astype(str)\n",
        "xtrain['C'] = xtrain['C'].astype(str)\n",
        "xtrain = pd.get_dummies(xtrain)\n",
        "del xgr\n",
        "print(xtrain.shape)"
      ]
    },
    {
      "cell_type": "code",
      "execution_count": null,
      "metadata": {
        "id": "o7SJ5e1z7RwC"
      },
      "outputs": [],
      "source": [
        "#clean up the data\n",
        "ytr_ref = xtrain['pressure'].copy()\n",
        "# unibreath_tr = xtrain['breath_id'].unique()\n",
        "\n",
        "ytrain = xtrain['pressure'].copy()\n",
        "id_train = xtrain['id']\n",
        "breathid = xtrain['breath_id']\n",
        "uout = xtrain['u_out']\n",
        "xtrain.drop(['pressure', 'id', 'breath_id'], axis=1, inplace=True)"
      ]
    },
    {
      "cell_type": "code",
      "execution_count": null,
      "metadata": {
        "colab": {
          "base_uri": "https://localhost:8080/"
        },
        "id": "oc9ZXp6oYf15",
        "outputId": "1d28c647-b54c-45e8-f1a1-2a7abf6af0eb"
      },
      "outputs": [
        {
          "output_type": "stream",
          "name": "stdout",
          "text": [
            "(6036000, 13) (6036000,)\n",
            "(75450, 80, 13) (75450, 80)\n"
          ]
        }
      ],
      "source": [
        "print(xtrain.shape, ytrain.shape)\n",
        "\n",
        "# scale\n",
        "RS = RobustScaler()\n",
        "xtrain = RS.fit_transform(xtrain)\n",
        "\n",
        "# reshape to [batch size, time steps, dimensionality]\n",
        "xtrain = xtrain.reshape(-1, 80, xtrain.shape[-1])\n",
        "ytrain = ytrain.to_numpy().reshape(-1, 80)\n",
        "\n",
        "print(xtrain.shape, ytrain.shape)"
      ]
    },
    {
      "cell_type": "markdown",
      "metadata": {
        "id": "EWohJXZPYbY3"
      },
      "source": [
        "# Define the loss functions. Here we only need the L1 loss: |f(x) - y|."
      ]
    },
    {
      "cell_type": "code",
      "execution_count": null,
      "metadata": {
        "id": "7Kzc8PTjhDIH"
      },
      "outputs": [],
      "source": [
        "# loss.py: Define the loss functions (here we only need the L1 loss)\n",
        "import torch\n",
        "import torch.nn.functional as F\n",
        "\n",
        "class weighted_l1_loss(tf.keras.losses.Loss):\n",
        "    def __init__(self):\n",
        "        super().__init__()\n",
        "    def call(self, y_true, y_pred):        \n",
        "        weights = GetWeights(y_true, reweight=args.reweight, lds=args.lds, lds_kernel=args.lds_kernel, lds_ks=args.lds_ks, lds_sigma=args.lds_sigma )\n",
        "        return np.mean(abs(y_true-y_pred)*weights)\n",
        "def weighted_mse_loss(inputs, targets, weights=None):\n",
        "    loss = (inputs - targets) ** 2\n",
        "    if weights is not None:\n",
        "        loss *= weights.expand_as(loss)\n",
        "    loss = torch.mean(loss)\n",
        "    return loss\n",
        "\n",
        "# def weighted_l1_loss(inputs, targets, weights=None):\n",
        "#     loss = F.l1_loss(inputs, targets, reduction='none')\n",
        "#     if weights is not None:\n",
        "#         loss *= weights.expand_as(loss)\n",
        "#     loss = torch.mean(loss)\n",
        "#     return loss\n",
        "\n",
        "def weighted_focal_mse_loss(inputs, targets, weights=None, activate='sigmoid', beta=.2, gamma=1):\n",
        "    loss = (inputs - targets) ** 2\n",
        "    loss *= (torch.tanh(beta * torch.abs(inputs - targets))) ** gamma if activate == 'tanh' else \\\n",
        "        (2 * torch.sigmoid(beta * torch.abs(inputs - targets)) - 1) ** gamma\n",
        "    if weights is not None:\n",
        "        loss *= weights.expand_as(loss)\n",
        "    loss = torch.mean(loss)\n",
        "    return loss\n",
        "\n",
        "def weighted_focal_l1_loss(inputs, targets, weights=None, activate='sigmoid', beta=.2, gamma=1):\n",
        "    loss = F.l1_loss(inputs, targets, reduction='none')\n",
        "    loss *= (torch.tanh(beta * torch.abs(inputs - targets))) ** gamma if activate == 'tanh' else \\\n",
        "        (2 * torch.sigmoid(beta * torch.abs(inputs - targets)) - 1) ** gamma\n",
        "    if weights is not None:\n",
        "        loss *= weights.expand_as(loss)\n",
        "    loss = torch.mean(loss)\n",
        "    return loss\n",
        "\n",
        "def weighted_huber_loss(inputs, targets, weights=None, beta=1.):\n",
        "    l1_loss = torch.abs(inputs - targets)\n",
        "    cond = l1_loss < beta\n",
        "    loss = torch.where(cond, 0.5 * l1_loss ** 2 / beta, l1_loss - 0.5 * beta)\n",
        "    if weights is not None:\n",
        "        loss *= weights.expand_as(loss)\n",
        "    loss = torch.mean(loss)\n",
        "    return loss\n"
      ]
    },
    {
      "cell_type": "code",
      "execution_count": null,
      "metadata": {
        "colab": {
          "base_uri": "https://localhost:8080/"
        },
        "id": "_RncC6q_clyN",
        "outputId": "8b76f601-17c0-431d-c05d-42551ceca000"
      },
      "outputs": [
        {
          "output_type": "stream",
          "name": "stdout",
          "text": [
            "(60360, 80, 13) (60360, 80)\n",
            "(7545, 80, 13) (7545, 80)\n",
            "(7545, 80, 13) (7545, 80)\n"
          ]
        }
      ],
      "source": [
        "X_tr, X_te, y_tr, y_te = train_test_split(xtrain, ytrain, test_size=0.2, random_state=42)\n",
        "X_te, X_val, y_te, y_val = train_test_split(X_te, y_te, test_size=0.5, random_state=42)\n",
        "print(X_tr.shape, y_tr.shape)\n",
        "print(X_val.shape, y_val.shape)\n",
        "print(X_te.shape, y_te.shape)"
      ]
    },
    {
      "cell_type": "code",
      "execution_count": null,
      "metadata": {
        "colab": {
          "base_uri": "https://localhost:8080/"
        },
        "id": "hyJDS50qhsk4",
        "outputId": "ee74ba30-779d-4020-fbe4-f200002b3ef5"
      },
      "outputs": [
        {
          "name": "stdout",
          "output_type": "stream",
          "text": [
            "236/236 [==============================] - 12s 19ms/step\n"
          ]
        }
      ],
      "source": [
        "# y_pred = model.predict(X_te)"
      ]
    },
    {
      "cell_type": "code",
      "execution_count": null,
      "metadata": {
        "colab": {
          "base_uri": "https://localhost:8080/"
        },
        "id": "tIUZVimBqV3r",
        "outputId": "44fc7747-8b0b-4fa0-95a3-94b8d6617281"
      },
      "outputs": [
        {
          "name": "stdout",
          "output_type": "stream",
          "text": [
            "mse:  0.6890570451215556\n"
          ]
        }
      ],
      "source": [
        "# print('mse: ',mse(y_pred, y_te))"
      ]
    },
    {
      "cell_type": "code",
      "execution_count": null,
      "metadata": {
        "id": "0QU3VAZPrL4H"
      },
      "outputs": [],
      "source": [
        "# model.save('model_LSTM.h5')"
      ]
    },
    {
      "cell_type": "code",
      "execution_count": null,
      "metadata": {
        "id": "Y0XA-Lm-J7wz"
      },
      "outputs": [],
      "source": [
        "# model = load_model('/content/drive/MyDrive/Imbalanced Regression/model/model_LSTM.h5') ## Name of model for option 1"
      ]
    },
    {
      "cell_type": "markdown",
      "metadata": {
        "id": "Y5PNUbm2tIEo"
      },
      "source": [
        "##Define some utility functions"
      ]
    },
    {
      "cell_type": "markdown",
      "metadata": {
        "id": "ibPWOIPEtnhV"
      },
      "source": [
        "##Define the data iterator (data loader)"
      ]
    },
    {
      "cell_type": "code",
      "execution_count": null,
      "metadata": {
        "id": "-P5L2nc72sRO"
      },
      "outputs": [],
      "source": [
        "from torch.functional import split\n",
        "# datasets.py: Define the data interator (data loader)\n",
        "from scipy.ndimage import convolve1d\n",
        "from scipy.ndimage import convolve1d, gaussian_filter1d\n",
        "import os\n",
        "import numpy as np\n",
        "from torch.utils import data\n",
        "from scipy.signal.windows import triang\n",
        "from tensorflow.python.ops.numpy_ops import np_config\n",
        "np_config.enable_numpy_behavior()\n",
        "\n",
        "def get_lds_kernel_window(kernel, ks, sigma):\n",
        "    assert kernel in ['gaussian', 'triang', 'laplace']\n",
        "    half_ks = (ks - 1) // 2\n",
        "    if kernel == 'gaussian':\n",
        "        base_kernel = [0.] * half_ks + [1.] + [0.] * half_ks\n",
        "        kernel_window = gaussian_filter1d(base_kernel, sigma=sigma) / max(gaussian_filter1d(base_kernel, sigma=sigma))\n",
        "    elif kernel == 'triang':\n",
        "        kernel_window = triang(ks)\n",
        "    else:\n",
        "        laplace = lambda x: np.exp(-abs(x) / sigma) / (2. * sigma)\n",
        "        kernel_window = list(map(laplace, np.arange(-half_ks, half_ks + 1))) / max(map(laplace, np.arange(-half_ks, half_ks + 1)))\n",
        "\n",
        "    return kernel_window\n",
        "\n",
        "def GetWeights(labels, reweight='none', max_target=65, lds=False, lds_kernel='gaussian',lds_ks=5,lds_sigma=2):\n",
        "  \n",
        "  assert reweight in {'none', 'inverse', 'sqrt_inv'}\n",
        "  assert reweight != 'none' if lds else True, \\\n",
        "    \"Set reweight to \\'sqrt_inv\\' (default) or \\'inverse\\' when using LDS\"\n",
        "  value_dict = {x: 0 for x in range(-1,max_target)}\n",
        "  labels = np.squeeze(labels.reshape(labels.shape[0]*labels.shape[1], 1).tolist())\n",
        "  \n",
        "  #mbr\n",
        "  for label in labels:\n",
        "    value_dict[min(max_target-1, int(label))] += 1\n",
        "  if reweight == 'sqrt_inv':\n",
        "    value_dict = {k: np.sqrt(v) for k, v in value_dict.items()}\n",
        "  elif reweight == 'inverse':\n",
        "    value_dict = {k: np.clip(v, 5, 1000) for k, v in value_dict.items()}\n",
        "  num_per_label = [value_dict[min(max_target-1, int(label))] for label in labels]\n",
        "  if not len(num_per_label) or reweight == 'none':\n",
        "    return None\n",
        "  print(f\"using re-weighting: [{reweight.upper()}]\")\n",
        "  if lds:\n",
        "    lds_kernel_window = get_lds_kernel_window(lds_kernel, lds_ks, lds_sigma)\n",
        "    print(f\"Using LDS: [{lds_kernel.upper()}] ({lds_ks}/{lds_sigma})\")\n",
        "    smoother_value = convolve1d(np.asarray([v for _,v in value_dict.items()]), weights=lds_kernel_window, mode='constant')\n",
        "    num_per_label = [smoother_value[min(max_target-1,int(label))] for label in labels]\n",
        "  \n",
        "  weights = [np.float64(1/x) for x in num_per_label]\n",
        "  scaling = len(weights)/np.sum(weights)\n",
        "  weights = [scaling*x for x in weights]\n",
        "  # return np.array(weights).reshape(labels.shape[0], labels.shape[1])\n",
        "  return np.array(weights)\n"
      ]
    },
    {
      "cell_type": "markdown",
      "metadata": {
        "id": "BsatiMuZGyrB"
      },
      "source": [
        "##Set up some default configurations"
      ]
    },
    {
      "cell_type": "code",
      "execution_count": null,
      "metadata": {
        "id": "msE3xQhE9ZCW"
      },
      "outputs": [],
      "source": [
        "# train.py, Part 1: Set up some default configurations.\n",
        "import time\n",
        "import argparse\n",
        "#import logging\n",
        "from tqdm import tqdm\n",
        "import pandas as pd\n",
        "from collections import defaultdict\n",
        "from scipy.stats import gmean\n",
        "\n",
        "import torch.nn as nn\n",
        "import torch.backends.cudnn as cudnn\n",
        "from torch.utils.data import DataLoader\n",
        "\n",
        "#from resnet import resnet50\n",
        "# from fcnet import fcnet1\n",
        "# from loss import *\n",
        "# from datasets import BostonHousing\n",
        "# from utils import *\n",
        "\n",
        "import os\n",
        "os.environ[\"KMP_WARNINGS\"] = \"FALSE\"\n",
        "\n",
        "parser = argparse.ArgumentParser(formatter_class=argparse.ArgumentDefaultsHelpFormatter)\n",
        "# CPU only\n",
        "parser.add_argument('--cpu_only', action='store_true', default=False, help='whether to use CPU only')\n",
        "# imbalanced related\n",
        "# LDS\n",
        "parser.add_argument('--lds', action='store_true', default=False, help='whether to enable LDS')\n",
        "parser.add_argument('--lds_kernel', type=str, default='gaussian',\n",
        "                    choices=['gaussian', 'triang', 'laplace'], help='LDS kernel type')\n",
        "parser.add_argument('--lds_ks', type=int, default=9, help='LDS kernel size: should be odd number')\n",
        "parser.add_argument('--lds_sigma', type=float, default=1, help='LDS gaussian/laplace kernel sigma')\n",
        "# re-weighting: SQRT_INV / INV\n",
        "parser.add_argument('--reweight', type=str, default='none', choices=['none', 'sqrt_inv', 'inverse'], help='cost-sensitive reweighting scheme')\n",
        "\n",
        "# training/optimization related\n",
        "parser.add_argument('--dataset', type=str, default='ventilator pressure', choices=['imdb_wiki', 'agedb'], help='dataset name')\n",
        "# parser.add_argument('--data_dir', type=str, default='./housing.data', help='data directory')\n",
        "parser.add_argument('--model', type=str, default='', help='model name')\n",
        "parser.add_argument('--store_root', type=str, default='checkpoint', help='root path for storing checkpoints, logs')\n",
        "parser.add_argument('--store_name', type=str, default='', help='experiment store name')\n",
        "parser.add_argument('--gpu', type=int, default=None)\n",
        "parser.add_argument('--optimizer', type=str, default='adam', choices=['adam', 'sgd'], help='optimizer type')\n",
        "parser.add_argument('--loss', type=str, default='l1', choices=['mse', 'l1', 'focal_l1', 'focal_mse', 'huber'], help='training loss type')\n",
        "parser.add_argument('--lr', type=float, default=1e-3, help='initial learning rate')\n",
        "parser.add_argument('--epoch', type=int, default=10, help='number of epochs to train')\n",
        "parser.add_argument('--momentum', type=float, default=0.9, help='optimizer momentum')\n",
        "parser.add_argument('--weight_decay', type=float, default=1e-4, help='optimizer weight decay')\n",
        "parser.add_argument('--schedule', type=int, nargs='*', default=[60, 80], help='lr schedule (when to drop lr by 10x)')\n",
        "#parser.add_argument('--batch_size', type=int, default=256, help='batch size')\n",
        "parser.add_argument('--batch_size', type=int, default=64, help='batch size')\n",
        "parser.add_argument('--print_freq', type=int, default=10, help='logging frequency')\n",
        "parser.add_argument('--img_size', type=int, default=224, help='image size used in training')\n",
        "parser.add_argument('--workers', type=int, default=32, help='number of workers used in data loading')\n",
        "# checkpoints\n",
        "parser.add_argument('--resume', type=str, default='', help='checkpoint file path to resume training')\n",
        "parser.add_argument('--evaluate', action='store_true', help='evaluate only flag')\n",
        "\n",
        "parser.set_defaults(augment=True)\n",
        "args, unknown = parser.parse_known_args()"
      ]
    },
    {
      "cell_type": "code",
      "execution_count": null,
      "metadata": {
        "id": "gbGsWxbLT7tz"
      },
      "outputs": [],
      "source": [
        "class CFG:\n",
        "    nepochs = 6\n",
        "    seed = 42\n",
        "    EPOCH = 300\n",
        "    bsize = 16\n",
        "    BATCH_SIZE = 1024"
      ]
    },
    {
      "cell_type": "markdown",
      "metadata": {
        "id": "lULdGgFPNcjl"
      },
      "source": [
        "##Train 4 different models using 4 options below"
      ]
    },
    {
      "cell_type": "code",
      "execution_count": null,
      "metadata": {
        "id": "rEH7CfEdNKKH"
      },
      "outputs": [],
      "source": [
        "# Option 1: To train the basic model, use the default setting, don't need to do anything\n",
        "reweight = 'none'\n",
        "lds = False"
      ]
    },
    {
      "cell_type": "code",
      "execution_count": null,
      "metadata": {
        "id": "pZPmVTWlP7V6"
      },
      "outputs": [],
      "source": [
        "# Option 2: To train the inverse weighting model:\n",
        "reweight = 'inverse'"
      ]
    },
    {
      "cell_type": "code",
      "execution_count": null,
      "metadata": {
        "id": "j1rrJYkLRQlQ"
      },
      "outputs": [],
      "source": [
        "# Option 3: To train the sqrt_inverse weighting model:\n",
        "reweight = 'sqrt_inv'"
      ]
    },
    {
      "cell_type": "code",
      "execution_count": null,
      "metadata": {
        "id": "d5d1w5hbRRAk"
      },
      "outputs": [],
      "source": [
        "# Option 4: To train the Label Distribution Smoothing (LDS) model:\n",
        "class args:\n",
        "  reweight = 'sqrt_inv'\n",
        "  lds = True\n",
        "  lds_kernel = 'gaussian'\n",
        "  lds_ls = 5\n",
        "  lds_sigma = 2\n",
        "  lds_ks = 9"
      ]
    },
    {
      "cell_type": "markdown",
      "metadata": {
        "id": "YHXTJR3XSaVa"
      },
      "source": [
        "##Train/Evaluate the model"
      ]
    },
    {
      "cell_type": "code",
      "execution_count": null,
      "metadata": {
        "colab": {
          "base_uri": "https://localhost:8080/",
          "height": 235
        },
        "id": "gh6xlvqmSWIh",
        "outputId": "eed0a5cd-5f5e-4eec-b382-6b8113deb465"
      },
      "outputs": [
        {
          "output_type": "error",
          "ename": "AttributeError",
          "evalue": "ignored",
          "traceback": [
            "\u001b[0;31m---------------------------------------------------------------------------\u001b[0m",
            "\u001b[0;31mAttributeError\u001b[0m                            Traceback (most recent call last)",
            "\u001b[0;32m<ipython-input-25-718e8a3a5bf9>\u001b[0m in \u001b[0;36m<module>\u001b[0;34m\u001b[0m\n\u001b[1;32m     10\u001b[0m   \u001b[0;32mif\u001b[0m \u001b[0margs\u001b[0m\u001b[0;34m.\u001b[0m\u001b[0mlds_kernel\u001b[0m \u001b[0;32min\u001b[0m \u001b[0;34m[\u001b[0m\u001b[0;34m'gaussian'\u001b[0m\u001b[0;34m,\u001b[0m\u001b[0;34m'laplace'\u001b[0m\u001b[0;34m]\u001b[0m\u001b[0;34m:\u001b[0m\u001b[0;34m\u001b[0m\u001b[0;34m\u001b[0m\u001b[0m\n\u001b[1;32m     11\u001b[0m     \u001b[0margs\u001b[0m\u001b[0;34m.\u001b[0m\u001b[0mstore_name\u001b[0m \u001b[0;34m+=\u001b[0m \u001b[0;34mf'_{args.lds_sigma}'\u001b[0m\u001b[0;34m\u001b[0m\u001b[0;34m\u001b[0m\u001b[0m\n\u001b[0;32m---> 12\u001b[0;31m \u001b[0margs\u001b[0m\u001b[0;34m.\u001b[0m\u001b[0mstore_name\u001b[0m \u001b[0;34m=\u001b[0m \u001b[0;34mf\"{args.dataset}_{args.model}{args.store_name}_{args.loss}_{args.lr}_{args.batch_size}\"\u001b[0m\u001b[0;34m\u001b[0m\u001b[0;34m\u001b[0m\u001b[0m\n\u001b[0m\u001b[1;32m     13\u001b[0m \u001b[0;34m\u001b[0m\u001b[0m\n\u001b[1;32m     14\u001b[0m \u001b[0mprint\u001b[0m\u001b[0;34m(\u001b[0m\u001b[0;34mf\"Args: {args}\"\u001b[0m\u001b[0;34m)\u001b[0m\u001b[0;34m\u001b[0m\u001b[0;34m\u001b[0m\u001b[0m\n",
            "\u001b[0;31mAttributeError\u001b[0m: type object 'args' has no attribute 'dataset'"
          ]
        }
      ],
      "source": [
        "# train.py \n",
        "args.store_name = ''\n",
        "args.start_epoch, args.best_loss=0, 1e5\n",
        "if len(args.store_name):\n",
        "  args.store_name = f'_{args.store_name}'\n",
        "if not args.lds and args.reweight != 'none':\n",
        "  args.store_name += f'_{args.reweight}'\n",
        "if args.lds:\n",
        "  args.store_name += f'_lds_{args.lds_kernel[:3]}_{args.lds_ks}'\n",
        "  if args.lds_kernel in ['gaussian','laplace']:\n",
        "    args.store_name += f'_{args.lds_sigma}'\n",
        "args.store_name = f\"{args.dataset}_{args.model}{args.store_name}_{args.loss}_{args.lr}_{args.batch_size}\"\n",
        "\n",
        "print(f\"Args: {args}\")\n",
        "print(f\"Store name: {args.store_name}\")\n",
        "\n",
        "train_loader = VentilatorPressure(x= X_tr, y= y_tr,reweight=args.reweight, lds=args.lds, lds_kernel=args.lds_kernel, lds_ks=args.lds_ks, lds_sigma=args.lds_sigma)"
      ]
    },
    {
      "cell_type": "code",
      "source": [
        "train_weights = GetWeights(y_tr, reweight=args.reweight, lds=args.lds, lds_kernel=args.lds_kernel, lds_ks=args.lds_ks, lds_sigma=args.lds_sigma)"
      ],
      "metadata": {
        "colab": {
          "base_uri": "https://localhost:8080/",
          "height": 305
        },
        "id": "9antZnOC4E5u",
        "outputId": "8f9bf0b3-d468-4bab-edf6-4b056c414dda"
      },
      "execution_count": null,
      "outputs": [
        {
          "output_type": "stream",
          "name": "stdout",
          "text": [
            "using re-weighting: [SQRT_INV]\n",
            "Using LDS: [GAUSSIAN] (9/2)\n"
          ]
        },
        {
          "output_type": "error",
          "ename": "IndexError",
          "evalue": "ignored",
          "traceback": [
            "\u001b[0;31m---------------------------------------------------------------------------\u001b[0m",
            "\u001b[0;31mIndexError\u001b[0m                                Traceback (most recent call last)",
            "\u001b[0;32m<ipython-input-36-f8b32e1c9e32>\u001b[0m in \u001b[0;36m<module>\u001b[0;34m\u001b[0m\n\u001b[0;32m----> 1\u001b[0;31m \u001b[0mtrain_weights\u001b[0m \u001b[0;34m=\u001b[0m \u001b[0mGetWeights\u001b[0m\u001b[0;34m(\u001b[0m\u001b[0my_tr\u001b[0m\u001b[0;34m,\u001b[0m \u001b[0mreweight\u001b[0m\u001b[0;34m=\u001b[0m\u001b[0margs\u001b[0m\u001b[0;34m.\u001b[0m\u001b[0mreweight\u001b[0m\u001b[0;34m,\u001b[0m \u001b[0mlds\u001b[0m\u001b[0;34m=\u001b[0m\u001b[0margs\u001b[0m\u001b[0;34m.\u001b[0m\u001b[0mlds\u001b[0m\u001b[0;34m,\u001b[0m \u001b[0mlds_kernel\u001b[0m\u001b[0;34m=\u001b[0m\u001b[0margs\u001b[0m\u001b[0;34m.\u001b[0m\u001b[0mlds_kernel\u001b[0m\u001b[0;34m,\u001b[0m \u001b[0mlds_ks\u001b[0m\u001b[0;34m=\u001b[0m\u001b[0margs\u001b[0m\u001b[0;34m.\u001b[0m\u001b[0mlds_ks\u001b[0m\u001b[0;34m,\u001b[0m \u001b[0mlds_sigma\u001b[0m\u001b[0;34m=\u001b[0m\u001b[0margs\u001b[0m\u001b[0;34m.\u001b[0m\u001b[0mlds_sigma\u001b[0m\u001b[0;34m)\u001b[0m\u001b[0;34m\u001b[0m\u001b[0;34m\u001b[0m\u001b[0m\n\u001b[0m",
            "\u001b[0;32m<ipython-input-35-7fdda22abce5>\u001b[0m in \u001b[0;36mGetWeights\u001b[0;34m(labels, reweight, max_target, lds, lds_kernel, lds_ks, lds_sigma)\u001b[0m\n\u001b[1;32m     52\u001b[0m   \u001b[0;31m# return np.array(weights).reshape(labels.shape[0], labels.shape[1])\u001b[0m\u001b[0;34m\u001b[0m\u001b[0;34m\u001b[0m\u001b[0;34m\u001b[0m\u001b[0m\n\u001b[1;32m     53\u001b[0m   \u001b[0mweights\u001b[0m\u001b[0;34m=\u001b[0m\u001b[0mnp\u001b[0m\u001b[0;34m.\u001b[0m\u001b[0marray\u001b[0m\u001b[0;34m(\u001b[0m\u001b[0mweights\u001b[0m\u001b[0;34m)\u001b[0m\u001b[0;34m\u001b[0m\u001b[0;34m\u001b[0m\u001b[0m\n\u001b[0;32m---> 54\u001b[0;31m   \u001b[0;32mreturn\u001b[0m \u001b[0mweights\u001b[0m\u001b[0;34m.\u001b[0m\u001b[0mreshape\u001b[0m\u001b[0;34m(\u001b[0m\u001b[0mlabels\u001b[0m\u001b[0;34m.\u001b[0m\u001b[0mshape\u001b[0m\u001b[0;34m[\u001b[0m\u001b[0;36m0\u001b[0m\u001b[0;34m]\u001b[0m\u001b[0;34m,\u001b[0m \u001b[0mlabels\u001b[0m\u001b[0;34m.\u001b[0m\u001b[0mshape\u001b[0m\u001b[0;34m[\u001b[0m\u001b[0;36m1\u001b[0m\u001b[0;34m]\u001b[0m\u001b[0;34m)\u001b[0m\u001b[0;34m\u001b[0m\u001b[0;34m\u001b[0m\u001b[0m\n\u001b[0m",
            "\u001b[0;31mIndexError\u001b[0m: tuple index out of range"
          ]
        }
      ]
    },
    {
      "cell_type": "code",
      "source": [
        "y_tr.shape"
      ],
      "metadata": {
        "colab": {
          "base_uri": "https://localhost:8080/"
        },
        "id": "aU7aZh6m5YP6",
        "outputId": "e2e49149-505d-421d-907d-ec09d109008b"
      },
      "execution_count": null,
      "outputs": [
        {
          "output_type": "execute_result",
          "data": {
            "text/plain": [
              "(60360, 80)"
            ]
          },
          "metadata": {},
          "execution_count": 38
        }
      ]
    },
    {
      "cell_type": "code",
      "execution_count": null,
      "metadata": {
        "id": "gA5XUpNga6vP"
      },
      "outputs": [],
      "source": [
        "def Model():\n",
        "  model = Sequential([Input(shape=xtrain.shape[-2:] ),\n",
        "                      Bidirectional(LSTM(400, return_sequences=True)),\n",
        "                      Bidirectional(LSTM(300, return_sequences=True)),\n",
        "                      Bidirectional(LSTM(200, return_sequences=True)),\n",
        "                      Bidirectional(LSTM(100, return_sequences=False)),\n",
        "                      Dense(50, activation = 'selu'),\n",
        "                      Dense(1)])\n",
        "  \n",
        "  model.compile(optimizer='adam',loss=weighted_l1_loss())\n",
        "  return model"
      ]
    },
    {
      "cell_type": "code",
      "execution_count": null,
      "metadata": {
        "colab": {
          "base_uri": "https://localhost:8080/",
          "height": 606
        },
        "id": "msyCkTnDhnk_",
        "outputId": "3c3bf225-503a-4bc6-b702-d79a542dbc4d"
      },
      "outputs": [
        {
          "output_type": "stream",
          "name": "stdout",
          "text": [
            "\n",
            "Epoch 1: LearningRateScheduler setting learning rate to 0.0010000000474974513.\n",
            "Epoch 1/6\n"
          ]
        },
        {
          "output_type": "error",
          "ename": "TypeError",
          "evalue": "ignored",
          "traceback": [
            "\u001b[0;31m---------------------------------------------------------------------------\u001b[0m",
            "\u001b[0;31mTypeError\u001b[0m                                 Traceback (most recent call last)",
            "\u001b[0;32m<ipython-input-46-e20ab522eea0>\u001b[0m in \u001b[0;36m<module>\u001b[0;34m\u001b[0m\n\u001b[1;32m      5\u001b[0m                            \u001b[0mpatience\u001b[0m \u001b[0;34m=\u001b[0m \u001b[0;36m5\u001b[0m\u001b[0;34m,\u001b[0m \u001b[0mmode\u001b[0m \u001b[0;34m=\u001b[0m \u001b[0;34m'min'\u001b[0m\u001b[0;34m,\u001b[0m \u001b[0mverbose\u001b[0m \u001b[0;34m=\u001b[0m \u001b[0;36m1\u001b[0m\u001b[0;34m,\u001b[0m\u001b[0;34m\u001b[0m\u001b[0;34m\u001b[0m\u001b[0m\n\u001b[1;32m      6\u001b[0m                            restore_best_weights = True)\n\u001b[0;32m----> 7\u001b[0;31m model.fit(X_tr, y_tr, validation_data = (X_val, y_val), epochs = CFG.nepochs, \n\u001b[0m\u001b[1;32m      8\u001b[0m               batch_size = CFG.BATCH_SIZE, callbacks = [early_stop , lr])\n",
            "\u001b[0;32m/usr/local/lib/python3.8/dist-packages/keras/utils/traceback_utils.py\u001b[0m in \u001b[0;36merror_handler\u001b[0;34m(*args, **kwargs)\u001b[0m\n\u001b[1;32m     65\u001b[0m     \u001b[0;32mexcept\u001b[0m \u001b[0mException\u001b[0m \u001b[0;32mas\u001b[0m \u001b[0me\u001b[0m\u001b[0;34m:\u001b[0m  \u001b[0;31m# pylint: disable=broad-except\u001b[0m\u001b[0;34m\u001b[0m\u001b[0;34m\u001b[0m\u001b[0m\n\u001b[1;32m     66\u001b[0m       \u001b[0mfiltered_tb\u001b[0m \u001b[0;34m=\u001b[0m \u001b[0m_process_traceback_frames\u001b[0m\u001b[0;34m(\u001b[0m\u001b[0me\u001b[0m\u001b[0;34m.\u001b[0m\u001b[0m__traceback__\u001b[0m\u001b[0;34m)\u001b[0m\u001b[0;34m\u001b[0m\u001b[0;34m\u001b[0m\u001b[0m\n\u001b[0;32m---> 67\u001b[0;31m       \u001b[0;32mraise\u001b[0m \u001b[0me\u001b[0m\u001b[0;34m.\u001b[0m\u001b[0mwith_traceback\u001b[0m\u001b[0;34m(\u001b[0m\u001b[0mfiltered_tb\u001b[0m\u001b[0;34m)\u001b[0m \u001b[0;32mfrom\u001b[0m \u001b[0;32mNone\u001b[0m\u001b[0;34m\u001b[0m\u001b[0;34m\u001b[0m\u001b[0m\n\u001b[0m\u001b[1;32m     68\u001b[0m     \u001b[0;32mfinally\u001b[0m\u001b[0;34m:\u001b[0m\u001b[0;34m\u001b[0m\u001b[0;34m\u001b[0m\u001b[0m\n\u001b[1;32m     69\u001b[0m       \u001b[0;32mdel\u001b[0m \u001b[0mfiltered_tb\u001b[0m\u001b[0;34m\u001b[0m\u001b[0;34m\u001b[0m\u001b[0m\n",
            "\u001b[0;32m/usr/local/lib/python3.8/dist-packages/keras/engine/training.py\u001b[0m in \u001b[0;36mtf__train_function\u001b[0;34m(iterator)\u001b[0m\n\u001b[1;32m     13\u001b[0m                 \u001b[0;32mtry\u001b[0m\u001b[0;34m:\u001b[0m\u001b[0;34m\u001b[0m\u001b[0;34m\u001b[0m\u001b[0m\n\u001b[1;32m     14\u001b[0m                     \u001b[0mdo_return\u001b[0m \u001b[0;34m=\u001b[0m \u001b[0;32mTrue\u001b[0m\u001b[0;34m\u001b[0m\u001b[0;34m\u001b[0m\u001b[0m\n\u001b[0;32m---> 15\u001b[0;31m                     \u001b[0mretval_\u001b[0m \u001b[0;34m=\u001b[0m \u001b[0mag__\u001b[0m\u001b[0;34m.\u001b[0m\u001b[0mconverted_call\u001b[0m\u001b[0;34m(\u001b[0m\u001b[0mag__\u001b[0m\u001b[0;34m.\u001b[0m\u001b[0mld\u001b[0m\u001b[0;34m(\u001b[0m\u001b[0mstep_function\u001b[0m\u001b[0;34m)\u001b[0m\u001b[0;34m,\u001b[0m \u001b[0;34m(\u001b[0m\u001b[0mag__\u001b[0m\u001b[0;34m.\u001b[0m\u001b[0mld\u001b[0m\u001b[0;34m(\u001b[0m\u001b[0mself\u001b[0m\u001b[0;34m)\u001b[0m\u001b[0;34m,\u001b[0m \u001b[0mag__\u001b[0m\u001b[0;34m.\u001b[0m\u001b[0mld\u001b[0m\u001b[0;34m(\u001b[0m\u001b[0miterator\u001b[0m\u001b[0;34m)\u001b[0m\u001b[0;34m)\u001b[0m\u001b[0;34m,\u001b[0m \u001b[0;32mNone\u001b[0m\u001b[0;34m,\u001b[0m \u001b[0mfscope\u001b[0m\u001b[0;34m)\u001b[0m\u001b[0;34m\u001b[0m\u001b[0;34m\u001b[0m\u001b[0m\n\u001b[0m\u001b[1;32m     16\u001b[0m                 \u001b[0;32mexcept\u001b[0m\u001b[0;34m:\u001b[0m\u001b[0;34m\u001b[0m\u001b[0;34m\u001b[0m\u001b[0m\n\u001b[1;32m     17\u001b[0m                     \u001b[0mdo_return\u001b[0m \u001b[0;34m=\u001b[0m \u001b[0;32mFalse\u001b[0m\u001b[0;34m\u001b[0m\u001b[0;34m\u001b[0m\u001b[0m\n",
            "\u001b[0;32m/tmp/__autograph_generated_file66nyc6bo.py\u001b[0m in \u001b[0;36mtf__call\u001b[0;34m(self, y_true, y_pred)\u001b[0m\n\u001b[1;32m      8\u001b[0m                 \u001b[0mdo_return\u001b[0m \u001b[0;34m=\u001b[0m \u001b[0;32mFalse\u001b[0m\u001b[0;34m\u001b[0m\u001b[0;34m\u001b[0m\u001b[0m\n\u001b[1;32m      9\u001b[0m                 \u001b[0mretval_\u001b[0m \u001b[0;34m=\u001b[0m \u001b[0mag__\u001b[0m\u001b[0;34m.\u001b[0m\u001b[0mUndefinedReturnValue\u001b[0m\u001b[0;34m(\u001b[0m\u001b[0;34m)\u001b[0m\u001b[0;34m\u001b[0m\u001b[0;34m\u001b[0m\u001b[0m\n\u001b[0;32m---> 10\u001b[0;31m                 \u001b[0mweights\u001b[0m \u001b[0;34m=\u001b[0m \u001b[0mag__\u001b[0m\u001b[0;34m.\u001b[0m\u001b[0mconverted_call\u001b[0m\u001b[0;34m(\u001b[0m\u001b[0mag__\u001b[0m\u001b[0;34m.\u001b[0m\u001b[0mld\u001b[0m\u001b[0;34m(\u001b[0m\u001b[0mGetWeights\u001b[0m\u001b[0;34m)\u001b[0m\u001b[0;34m,\u001b[0m \u001b[0;34m(\u001b[0m\u001b[0mag__\u001b[0m\u001b[0;34m.\u001b[0m\u001b[0mld\u001b[0m\u001b[0;34m(\u001b[0m\u001b[0my_true\u001b[0m\u001b[0;34m)\u001b[0m\u001b[0;34m,\u001b[0m\u001b[0;34m)\u001b[0m\u001b[0;34m,\u001b[0m \u001b[0mdict\u001b[0m\u001b[0;34m(\u001b[0m\u001b[0mreweight\u001b[0m\u001b[0;34m=\u001b[0m\u001b[0mag__\u001b[0m\u001b[0;34m.\u001b[0m\u001b[0mld\u001b[0m\u001b[0;34m(\u001b[0m\u001b[0margs\u001b[0m\u001b[0;34m)\u001b[0m\u001b[0;34m.\u001b[0m\u001b[0mreweight\u001b[0m\u001b[0;34m,\u001b[0m \u001b[0mlds\u001b[0m\u001b[0;34m=\u001b[0m\u001b[0mag__\u001b[0m\u001b[0;34m.\u001b[0m\u001b[0mld\u001b[0m\u001b[0;34m(\u001b[0m\u001b[0margs\u001b[0m\u001b[0;34m)\u001b[0m\u001b[0;34m.\u001b[0m\u001b[0mlds\u001b[0m\u001b[0;34m,\u001b[0m \u001b[0mlds_kernel\u001b[0m\u001b[0;34m=\u001b[0m\u001b[0mag__\u001b[0m\u001b[0;34m.\u001b[0m\u001b[0mld\u001b[0m\u001b[0;34m(\u001b[0m\u001b[0margs\u001b[0m\u001b[0;34m)\u001b[0m\u001b[0;34m.\u001b[0m\u001b[0mlds_kernel\u001b[0m\u001b[0;34m,\u001b[0m \u001b[0mlds_ks\u001b[0m\u001b[0;34m=\u001b[0m\u001b[0mag__\u001b[0m\u001b[0;34m.\u001b[0m\u001b[0mld\u001b[0m\u001b[0;34m(\u001b[0m\u001b[0margs\u001b[0m\u001b[0;34m)\u001b[0m\u001b[0;34m.\u001b[0m\u001b[0mlds_ks\u001b[0m\u001b[0;34m,\u001b[0m \u001b[0mlds_sigma\u001b[0m\u001b[0;34m=\u001b[0m\u001b[0mag__\u001b[0m\u001b[0;34m.\u001b[0m\u001b[0mld\u001b[0m\u001b[0;34m(\u001b[0m\u001b[0margs\u001b[0m\u001b[0;34m)\u001b[0m\u001b[0;34m.\u001b[0m\u001b[0mlds_sigma\u001b[0m\u001b[0;34m)\u001b[0m\u001b[0;34m,\u001b[0m \u001b[0mfscope\u001b[0m\u001b[0;34m)\u001b[0m\u001b[0;34m\u001b[0m\u001b[0;34m\u001b[0m\u001b[0m\n\u001b[0m\u001b[1;32m     11\u001b[0m                 \u001b[0;32mtry\u001b[0m\u001b[0;34m:\u001b[0m\u001b[0;34m\u001b[0m\u001b[0;34m\u001b[0m\u001b[0m\n\u001b[1;32m     12\u001b[0m                     \u001b[0mdo_return\u001b[0m \u001b[0;34m=\u001b[0m \u001b[0;32mTrue\u001b[0m\u001b[0;34m\u001b[0m\u001b[0;34m\u001b[0m\u001b[0m\n",
            "\u001b[0;32m/tmp/__autograph_generated_filekdx45f4u.py\u001b[0m in \u001b[0;36mtf__GetWeights\u001b[0;34m(labels, reweight, max_target, lds, lds_kernel, lds_ks, lds_sigma)\u001b[0m\n\u001b[1;32m     11\u001b[0m                 \u001b[0;32massert\u001b[0m \u001b[0mag__\u001b[0m\u001b[0;34m.\u001b[0m\u001b[0mif_exp\u001b[0m\u001b[0;34m(\u001b[0m\u001b[0mag__\u001b[0m\u001b[0;34m.\u001b[0m\u001b[0mld\u001b[0m\u001b[0;34m(\u001b[0m\u001b[0mlds\u001b[0m\u001b[0;34m)\u001b[0m\u001b[0;34m,\u001b[0m \u001b[0;34m(\u001b[0m\u001b[0;32mlambda\u001b[0m \u001b[0;34m:\u001b[0m \u001b[0;34m(\u001b[0m\u001b[0mag__\u001b[0m\u001b[0;34m.\u001b[0m\u001b[0mld\u001b[0m\u001b[0;34m(\u001b[0m\u001b[0mreweight\u001b[0m\u001b[0;34m)\u001b[0m \u001b[0;34m!=\u001b[0m \u001b[0;34m'none'\u001b[0m\u001b[0;34m)\u001b[0m\u001b[0;34m)\u001b[0m\u001b[0;34m,\u001b[0m \u001b[0;34m(\u001b[0m\u001b[0;32mlambda\u001b[0m \u001b[0;34m:\u001b[0m \u001b[0;32mTrue\u001b[0m\u001b[0;34m)\u001b[0m\u001b[0;34m,\u001b[0m \u001b[0;34m'lds'\u001b[0m\u001b[0;34m)\u001b[0m\u001b[0;34m,\u001b[0m \u001b[0;34m\"Set reweight to 'sqrt_inv' (default) or 'inverse' when using LDS\"\u001b[0m\u001b[0;34m\u001b[0m\u001b[0;34m\u001b[0m\u001b[0m\n\u001b[1;32m     12\u001b[0m                 \u001b[0mvalue_dict\u001b[0m \u001b[0;34m=\u001b[0m \u001b[0;34m{\u001b[0m\u001b[0mag__\u001b[0m\u001b[0;34m.\u001b[0m\u001b[0mld\u001b[0m\u001b[0;34m(\u001b[0m\u001b[0mx\u001b[0m\u001b[0;34m)\u001b[0m\u001b[0;34m:\u001b[0m \u001b[0;36m0\u001b[0m \u001b[0;32mfor\u001b[0m \u001b[0mx\u001b[0m \u001b[0;32min\u001b[0m \u001b[0mag__\u001b[0m\u001b[0;34m.\u001b[0m\u001b[0mconverted_call\u001b[0m\u001b[0;34m(\u001b[0m\u001b[0mag__\u001b[0m\u001b[0;34m.\u001b[0m\u001b[0mld\u001b[0m\u001b[0;34m(\u001b[0m\u001b[0mrange\u001b[0m\u001b[0;34m)\u001b[0m\u001b[0;34m,\u001b[0m \u001b[0;34m(\u001b[0m\u001b[0;34m(\u001b[0m\u001b[0;34m-\u001b[0m \u001b[0;36m1\u001b[0m\u001b[0;34m)\u001b[0m\u001b[0;34m,\u001b[0m \u001b[0mag__\u001b[0m\u001b[0;34m.\u001b[0m\u001b[0mld\u001b[0m\u001b[0;34m(\u001b[0m\u001b[0mmax_target\u001b[0m\u001b[0;34m)\u001b[0m\u001b[0;34m)\u001b[0m\u001b[0;34m,\u001b[0m \u001b[0;32mNone\u001b[0m\u001b[0;34m,\u001b[0m \u001b[0mfscope\u001b[0m\u001b[0;34m)\u001b[0m\u001b[0;34m}\u001b[0m\u001b[0;34m\u001b[0m\u001b[0;34m\u001b[0m\u001b[0m\n\u001b[0;32m---> 13\u001b[0;31m                 \u001b[0mlabels\u001b[0m \u001b[0;34m=\u001b[0m \u001b[0mag__\u001b[0m\u001b[0;34m.\u001b[0m\u001b[0mconverted_call\u001b[0m\u001b[0;34m(\u001b[0m\u001b[0mag__\u001b[0m\u001b[0;34m.\u001b[0m\u001b[0mld\u001b[0m\u001b[0;34m(\u001b[0m\u001b[0mnp\u001b[0m\u001b[0;34m)\u001b[0m\u001b[0;34m.\u001b[0m\u001b[0msqueeze\u001b[0m\u001b[0;34m,\u001b[0m \u001b[0;34m(\u001b[0m\u001b[0mag__\u001b[0m\u001b[0;34m.\u001b[0m\u001b[0mconverted_call\u001b[0m\u001b[0;34m(\u001b[0m\u001b[0mag__\u001b[0m\u001b[0;34m.\u001b[0m\u001b[0mconverted_call\u001b[0m\u001b[0;34m(\u001b[0m\u001b[0mag__\u001b[0m\u001b[0;34m.\u001b[0m\u001b[0mld\u001b[0m\u001b[0;34m(\u001b[0m\u001b[0mlabels\u001b[0m\u001b[0;34m)\u001b[0m\u001b[0;34m.\u001b[0m\u001b[0mreshape\u001b[0m\u001b[0;34m,\u001b[0m \u001b[0;34m(\u001b[0m\u001b[0;34m(\u001b[0m\u001b[0mag__\u001b[0m\u001b[0;34m.\u001b[0m\u001b[0mld\u001b[0m\u001b[0;34m(\u001b[0m\u001b[0mlabels\u001b[0m\u001b[0;34m)\u001b[0m\u001b[0;34m.\u001b[0m\u001b[0mshape\u001b[0m\u001b[0;34m[\u001b[0m\u001b[0;36m0\u001b[0m\u001b[0;34m]\u001b[0m \u001b[0;34m*\u001b[0m \u001b[0mag__\u001b[0m\u001b[0;34m.\u001b[0m\u001b[0mld\u001b[0m\u001b[0;34m(\u001b[0m\u001b[0mlabels\u001b[0m\u001b[0;34m)\u001b[0m\u001b[0;34m.\u001b[0m\u001b[0mshape\u001b[0m\u001b[0;34m[\u001b[0m\u001b[0;36m1\u001b[0m\u001b[0;34m]\u001b[0m\u001b[0;34m)\u001b[0m\u001b[0;34m,\u001b[0m \u001b[0;36m1\u001b[0m\u001b[0;34m)\u001b[0m\u001b[0;34m,\u001b[0m \u001b[0;32mNone\u001b[0m\u001b[0;34m,\u001b[0m \u001b[0mfscope\u001b[0m\u001b[0;34m)\u001b[0m\u001b[0;34m.\u001b[0m\u001b[0mtolist\u001b[0m\u001b[0;34m,\u001b[0m \u001b[0;34m(\u001b[0m\u001b[0;34m)\u001b[0m\u001b[0;34m,\u001b[0m \u001b[0;32mNone\u001b[0m\u001b[0;34m,\u001b[0m \u001b[0mfscope\u001b[0m\u001b[0;34m)\u001b[0m\u001b[0;34m,\u001b[0m\u001b[0;34m)\u001b[0m\u001b[0;34m,\u001b[0m \u001b[0;32mNone\u001b[0m\u001b[0;34m,\u001b[0m \u001b[0mfscope\u001b[0m\u001b[0;34m)\u001b[0m\u001b[0;34m\u001b[0m\u001b[0;34m\u001b[0m\u001b[0m\n\u001b[0m\u001b[1;32m     14\u001b[0m \u001b[0;34m\u001b[0m\u001b[0m\n\u001b[1;32m     15\u001b[0m                 \u001b[0;32mdef\u001b[0m \u001b[0mget_state\u001b[0m\u001b[0;34m(\u001b[0m\u001b[0;34m)\u001b[0m\u001b[0;34m:\u001b[0m\u001b[0;34m\u001b[0m\u001b[0;34m\u001b[0m\u001b[0m\n",
            "\u001b[0;31mTypeError\u001b[0m: in user code:\n\n    File \"/usr/local/lib/python3.8/dist-packages/keras/engine/training.py\", line 1051, in train_function  *\n        return step_function(self, iterator)\n    File \"<ipython-input-40-e7e8269f2b46>\", line 9, in call  *\n        weights = GetWeights(y_true, reweight=args.reweight, lds=args.lds, lds_kernel=args.lds_kernel, lds_ks=args.lds_ks, lds_sigma=args.lds_sigma )\n    File \"<ipython-input-45-8e4b874c1a33>\", line 31, in GetWeights  *\n        labels = np.squeeze(labels.reshape(labels.shape[0]*labels.shape[1], 1).tolist())\n\n    TypeError: unsupported operand type(s) for *: 'NoneType' and 'int'\n"
          ]
        }
      ],
      "source": [
        "model = Model()\n",
        "scheduler = ExponentialDecay(1e-3, 400*((len(X_tr)*0.8)/CFG.BATCH_SIZE), 1e-5)\n",
        "lr = LearningRateScheduler(scheduler, verbose=1)\n",
        "early_stop = EarlyStopping(monitor = 'val_loss', min_delta = 0.001, \n",
        "                           patience = 5, mode = 'min', verbose = 1,\n",
        "                           restore_best_weights = True)\n",
        "model.fit(X_tr, y_tr, validation_data = (X_val, y_val), epochs = CFG.nepochs, \n",
        "              batch_size = CFG.BATCH_SIZE, callbacks = [early_stop , lr])"
      ]
    },
    {
      "cell_type": "code",
      "execution_count": null,
      "metadata": {
        "id": "NQnDTaZAqInv"
      },
      "outputs": [],
      "source": [
        "# model.save('/content/drive/MyDrive/Imbalanced Regression/model/lds_LSTM.h5') ## Name of model for option 4 \n",
        "model.save('/content/drive/MyDrive/Deep Learning đồ án/model/inverse_l1_0.001_64.h5') ## Option 2"
      ]
    },
    {
      "cell_type": "code",
      "execution_count": null,
      "metadata": {
        "id": "IOvBHYNKIlKg"
      },
      "outputs": [],
      "source": [
        "model = load_model('/content/drive/MyDrive/Deep Learning đồ án/model/inverse_l1_0.001_64.h5')"
      ]
    },
    {
      "cell_type": "code",
      "execution_count": null,
      "metadata": {
        "colab": {
          "base_uri": "https://localhost:8080/"
        },
        "id": "lPrWngNiMTj5",
        "outputId": "96f9e901-ee75-4b34-e769-222959fb9202"
      },
      "outputs": [
        {
          "name": "stdout",
          "output_type": "stream",
          "text": [
            "236/236 [==============================] - 8s 23ms/step\n"
          ]
        }
      ],
      "source": [
        "y_pred=model.predict(X_te)"
      ]
    },
    {
      "cell_type": "code",
      "execution_count": null,
      "metadata": {
        "id": "EOsg7YHv7VWo"
      },
      "outputs": [],
      "source": [
        "y_pred=y_pred.reshape(y_pred.shape[0]*y_pred.shape[1],1)\n",
        "y_te = y_te.reshape(y_te.shape[0]*y_te.shape[1],1)"
      ]
    },
    {
      "cell_type": "markdown",
      "metadata": {
        "id": "foOk9f70kzKi"
      },
      "source": [
        "##Evaluate "
      ]
    },
    {
      "cell_type": "code",
      "execution_count": null,
      "metadata": {
        "colab": {
          "base_uri": "https://localhost:8080/"
        },
        "id": "CsXSVVfStUxS",
        "outputId": "4860370b-9014-4f30-df05-ce0a566b3620"
      },
      "outputs": [
        {
          "name": "stdout",
          "output_type": "stream",
          "text": [
            "using re-weighting: [SQRT_INV]\n",
            "Using LDS: [GAUSSIAN] (9/2)\n",
            " * Overall: MSE 0.735\tL1 0.458\tR2 0.989\n",
            " * Many: MSE 0.253\tL1 0.289\tR2 score -0.000\n",
            " * Median: MSE 1.755\tL1 0.821\tR2 score -0.003\n",
            " * Low: MSE 3.155\tL1 1.191\tR2 score -0.813\n"
          ]
        }
      ],
      "source": [
        "def short_metrics(preds, labels, train_labels, many_shot_thr=100000, low_shot_thr=10000):\n",
        "  train_class_count, test_class_count = [], []\n",
        "  mse_per_class, l1_per_class, r2_per_class = [], [], []\n",
        "  for l in np.unique(np.floor(labels)):\n",
        "    train_class_count.append(len(train_labels[np.floor(train_labels)==l]))\n",
        "    test_class_count.append(len(labels[np.floor(labels)==l]))\n",
        "    mse_per_class.append(np.sum((preds[np.floor(labels)==l]-labels[np.floor(labels)==l])**2))\n",
        "    l1_per_class.append(np.sum(np.abs(preds[np.floor(labels)==l]-labels[np.floor(labels)==l])))\n",
        "    r2_per_class.append(r2_score(labels[np.floor(labels)==l],preds[np.floor(labels)==l]))\n",
        "\n",
        "  many_shot_mse, median_shot_mse, low_shot_mse = [], [], []\n",
        "  many_shot_l1, median_shot_l1, low_shot_l1 = [], [], []\n",
        "  many_shot_r2, median_shot_r2, low_shot_r2 = [], [], []\n",
        "  many_shot_cnt, median_shot_cnt, low_shot_cnt = [], [], []\n",
        "  for i in range(len(train_class_count)):\n",
        "      if train_class_count[i] > many_shot_thr:\n",
        "          many_shot_mse.append(mse_per_class[i])\n",
        "          many_shot_l1.append(l1_per_class[i])\n",
        "          many_shot_r2.append(r2_per_class[i])\n",
        "          many_shot_cnt.append(test_class_count[i])\n",
        "      elif train_class_count[i] < low_shot_thr:\n",
        "          low_shot_mse.append(mse_per_class[i])\n",
        "          low_shot_l1.append(l1_per_class[i])\n",
        "          low_shot_r2.append(r2_per_class[i])\n",
        "          low_shot_cnt.append(test_class_count[i])\n",
        "      else:\n",
        "          median_shot_mse.append(mse_per_class[i])\n",
        "          median_shot_l1.append(l1_per_class[i])\n",
        "          median_shot_r2.append(r2_per_class[i])\n",
        "          median_shot_cnt.append(test_class_count[i])\n",
        "\n",
        "  shot_dict = {}\n",
        "  shot_dict['many mse'] = np.sum(many_shot_mse) / np.sum(many_shot_cnt)\n",
        "  shot_dict['many l1'] = np.sum(many_shot_l1) / np.sum(many_shot_cnt)\n",
        "  shot_dict['many r2'] = np.sum(many_shot_r2) / np.sum(many_shot_cnt)\n",
        "  shot_dict['median mse'] = np.sum(median_shot_mse) / np.sum(median_shot_cnt)\n",
        "  shot_dict['median l1'] = np.sum(median_shot_l1) / np.sum(median_shot_cnt)\n",
        "  shot_dict['median r2'] = np.sum(median_shot_r2) / np.sum(median_shot_cnt)\n",
        "  shot_dict['low mse'] = np.sum(low_shot_mse) / np.sum(low_shot_cnt)\n",
        "  shot_dict['low l1'] = np.sum(low_shot_l1) / np.sum(low_shot_cnt)\n",
        "  shot_dict['low r2'] = np.sum(low_shot_r2) / np.sum(low_shot_cnt)\n",
        "\n",
        "  mse = mean_squared_error(preds, test_loader.y)\n",
        "  mae = mean_absolute_error(preds, test_loader.y)\n",
        "  r2 = r2_score(test_loader.y, preds)\n",
        "  print(f\" * Overall: MSE {mse:.3f}\\tL1 {mae:.3f}\\tR2 {r2:.3f}\")\n",
        "  print(f\" * Many: MSE {shot_dict['many mse']:.3f}\\t\"\n",
        "              f\"L1 {shot_dict['many l1']:.3f}\\tR2 score {shot_dict['many r2']:.3f}\")\n",
        "  print(f\" * Median: MSE {shot_dict['median mse']:.3f}\\t\"\n",
        "              f\"L1 {shot_dict['median l1']:.3f}\\tR2 score {shot_dict['median r2']:.3f}\")\n",
        "  print(f\" * Low: MSE {shot_dict['low mse']:.3f}\\t\"\n",
        "              f\"L1 {shot_dict['low l1']:.3f}\\tR2 score {shot_dict['low r2']:.3f}\")\n",
        "\n",
        "  return shot_dict\n",
        "\n",
        "test_loader = VentilatorPressure(x= X_te, y= y_te,reweight=args.reweight, lds=args.lds, lds_kernel=args.lds_kernel, lds_ks=args.lds_ks, lds_sigma=args.lds_sigma)\n",
        "shot_dict = short_metrics(y_pred,y_te, train_loader.y)"
      ]
    },
    {
      "cell_type": "code",
      "execution_count": null,
      "metadata": {
        "colab": {
          "base_uri": "https://localhost:8080/"
        },
        "id": "ill0qJ5kYPUQ",
        "outputId": "65f3ec25-5750-4b6e-c8dc-d1a27c2e94bb"
      },
      "outputs": [
        {
          "data": {
            "text/plain": [
              "(603600, 1)"
            ]
          },
          "execution_count": 35,
          "metadata": {},
          "output_type": "execute_result"
        }
      ],
      "source": [
        "y_pred.shape"
      ]
    },
    {
      "cell_type": "code",
      "execution_count": null,
      "metadata": {
        "colab": {
          "base_uri": "https://localhost:8080/"
        },
        "id": "wtznO5H5MX_u",
        "outputId": "756a889c-cf89-45d1-df99-cc273bb478ca"
      },
      "outputs": [
        {
          "name": "stdout",
          "output_type": "stream",
          "text": [
            "0.9887313762215733\n",
            "0.4584763327313159\n"
          ]
        }
      ],
      "source": [
        "from sklearn.metrics import r2_score, mean_absolute_error, mean_squared_error\n",
        "print(r2_score(y_te, y_pred))\n",
        "print(mean_absolute_error(y_te,y_pred))"
      ]
    },
    {
      "cell_type": "markdown",
      "metadata": {
        "id": "TvsYqXMyhvCW"
      },
      "source": [
        "Result when using different options:\n",
        "- Option 1: r2_score:                   , mae: \n",
        "- Option 2:\n",
        " * Overall: MSE 0.608\tL1 0.431\tR2 0.991\n",
        " * Many: MSE 0.209\tL1 0.277\tR2 score -0.000\n",
        " * Median: MSE 1.399\tL1 0.752\tR2 score -0.003\n",
        " * Low: MSE 3.756\tL1 1.315\tR2 score -1.264\n",
        "- Option 4: r2_score: 0.9909020587112689, mae: 0.4216543379856877\n",
        "\n",
        "\n"
      ]
    },
    {
      "cell_type": "code",
      "execution_count": null,
      "metadata": {
        "colab": {
          "base_uri": "https://localhost:8080/",
          "height": 325
        },
        "id": "ivGXsBl_Mdl0",
        "outputId": "2ec752ce-190d-4d86-c48f-c63b61adacfe"
      },
      "outputs": [
        {
          "data": {
            "text/plain": [
              "<matplotlib.axes._subplots.AxesSubplot at 0x7f6e82fe9850>"
            ]
          },
          "execution_count": 73,
          "metadata": {},
          "output_type": "execute_result"
        },
        {
          "data": {
            "image/png": "[encoded data removed]",
            "text/plain": [
              "<Figure size 432x288 with 1 Axes>"
            ]
          },
          "metadata": {},
          "output_type": "display_data"
        }
      ],
      "source": [
        "import seaborn as sns\n",
        "df = pd.DataFrame({'y true': np.squeeze(y_te), 'y pred': np.squeeze(y_pred)})\n",
        "df['test error'] = abs(df['y pred'] - df['y true'])\n",
        "sns.lineplot(data=df, x='y true', y='test error')"
      ]
    },
    {
      "cell_type": "code",
      "execution_count": null,
      "metadata": {
        "id": "34Lj8h1vNjrH"
      },
      "outputs": [],
      "source": []
    }
  ],
  "metadata": {
    "accelerator": "GPU",
    "colab": {
      "machine_shape": "hm",
      "provenance": [],
      "gpuClass": "premium"
    },
    "gpuClass": "premium",
    "kernelspec": {
      "display_name": "Python 3",
      "name": "python3"
    },
    "language_info": {
      "name": "python"
    }
  },
  "nbformat": 4,
  "nbformat_minor": 0
}